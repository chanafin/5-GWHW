{
 "cells": [
  {
   "cell_type": "code",
   "execution_count": 1,
   "metadata": {},
   "outputs": [],
   "source": [
    "#Observations\n",
    "#Capomullin and Ramicane have proven to be the most effective in getting lower final tumor volumes\n",
    "#Capomulin and Ramicane are also the most consistent treatments when considering variance\n",
    "#Due to high variance, both Ketapril and Naftisol should be discontinued as trial Drug Regimens\n",
    "\n",
    "# Dependencies and Setup\n",
    "import pandas as pd\n",
    "import matplotlib.pyplot as plt\n",
    "import numpy as np\n",
    "import scipy.stats as st\n",
    "from scipy.stats import linregress\n",
    "from scipy import stats\n",
    "\n",
    "# Study data files\n",
    "mouse_metadata_path = \"data/Mouse_metadata.csv\"\n",
    "study_results_path = \"data/Study_results.csv\"\n",
    "\n",
    "# Read the mouse data and the study results\n",
    "mouse_metadata = pd.read_csv(mouse_metadata_path)\n",
    "study_results = pd.read_csv(study_results_path)\n",
    "\n",
    "# Combine the data into a single dataset\n",
    "mice = pd.merge(mouse_metadata, study_results, on = \"Mouse ID\", how = \"outer\")"
   ]
  },
  {
   "cell_type": "code",
   "execution_count": 2,
   "metadata": {},
   "outputs": [
    {
     "data": {
      "text/plain": [
       "249"
      ]
     },
     "execution_count": 2,
     "metadata": {},
     "output_type": "execute_result"
    }
   ],
   "source": [
    "# Checking the number of mice in the DataFrame.\n",
    "mice['Mouse ID'].nunique()"
   ]
  },
  {
   "cell_type": "code",
   "execution_count": null,
   "metadata": {},
   "outputs": [],
   "source": [
    "# Extract duplicate mice by ID number that shows up for Mouse ID and Timepoint.\n",
    "mice = mice.sort_values([\"Mouse ID\", \"Timepoint\"])"
   ]
  },
  {
   "cell_type": "code",
   "execution_count": 4,
   "metadata": {
    "scrolled": true
   },
   "outputs": [
    {
     "data": {
      "text/html": [
       "<div>\n",
       "<style scoped>\n",
       "    .dataframe tbody tr th:only-of-type {\n",
       "        vertical-align: middle;\n",
       "    }\n",
       "\n",
       "    .dataframe tbody tr th {\n",
       "        vertical-align: top;\n",
       "    }\n",
       "\n",
       "    .dataframe thead th {\n",
       "        text-align: right;\n",
       "    }\n",
       "</style>\n",
       "<table border=\"1\" class=\"dataframe\">\n",
       "  <thead>\n",
       "    <tr style=\"text-align: right;\">\n",
       "      <th></th>\n",
       "      <th>Mouse ID</th>\n",
       "      <th>Drug Regimen</th>\n",
       "      <th>Sex</th>\n",
       "      <th>Age_months</th>\n",
       "      <th>Weight (g)</th>\n",
       "      <th>Timepoint</th>\n",
       "      <th>Tumor Volume (mm3)</th>\n",
       "      <th>Metastatic Sites</th>\n",
       "    </tr>\n",
       "  </thead>\n",
       "  <tbody>\n",
       "    <tr>\n",
       "      <td>909</td>\n",
       "      <td>g989</td>\n",
       "      <td>Propriva</td>\n",
       "      <td>Female</td>\n",
       "      <td>21</td>\n",
       "      <td>26</td>\n",
       "      <td>0</td>\n",
       "      <td>45.000000</td>\n",
       "      <td>0</td>\n",
       "    </tr>\n",
       "    <tr>\n",
       "      <td>911</td>\n",
       "      <td>g989</td>\n",
       "      <td>Propriva</td>\n",
       "      <td>Female</td>\n",
       "      <td>21</td>\n",
       "      <td>26</td>\n",
       "      <td>5</td>\n",
       "      <td>47.570392</td>\n",
       "      <td>0</td>\n",
       "    </tr>\n",
       "    <tr>\n",
       "      <td>913</td>\n",
       "      <td>g989</td>\n",
       "      <td>Propriva</td>\n",
       "      <td>Female</td>\n",
       "      <td>21</td>\n",
       "      <td>26</td>\n",
       "      <td>10</td>\n",
       "      <td>49.880528</td>\n",
       "      <td>0</td>\n",
       "    </tr>\n",
       "    <tr>\n",
       "      <td>915</td>\n",
       "      <td>g989</td>\n",
       "      <td>Propriva</td>\n",
       "      <td>Female</td>\n",
       "      <td>21</td>\n",
       "      <td>26</td>\n",
       "      <td>15</td>\n",
       "      <td>53.442020</td>\n",
       "      <td>0</td>\n",
       "    </tr>\n",
       "    <tr>\n",
       "      <td>917</td>\n",
       "      <td>g989</td>\n",
       "      <td>Propriva</td>\n",
       "      <td>Female</td>\n",
       "      <td>21</td>\n",
       "      <td>26</td>\n",
       "      <td>20</td>\n",
       "      <td>54.657650</td>\n",
       "      <td>1</td>\n",
       "    </tr>\n",
       "  </tbody>\n",
       "</table>\n",
       "</div>"
      ],
      "text/plain": [
       "    Mouse ID Drug Regimen     Sex  Age_months  Weight (g)  Timepoint  \\\n",
       "909     g989     Propriva  Female          21          26          0   \n",
       "911     g989     Propriva  Female          21          26          5   \n",
       "913     g989     Propriva  Female          21          26         10   \n",
       "915     g989     Propriva  Female          21          26         15   \n",
       "917     g989     Propriva  Female          21          26         20   \n",
       "\n",
       "     Tumor Volume (mm3)  Metastatic Sites  \n",
       "909           45.000000                 0  \n",
       "911           47.570392                 0  \n",
       "913           49.880528                 0  \n",
       "915           53.442020                 0  \n",
       "917           54.657650                 1  "
      ]
     },
     "execution_count": 4,
     "metadata": {},
     "output_type": "execute_result"
    }
   ],
   "source": [
    "# Get all the data for the duplicate mouse ID. \n",
    "micedupe = mice[mice.duplicated(['Mouse ID', 'Timepoint'])]\n",
    "micedupe"
   ]
  },
  {
   "cell_type": "code",
   "execution_count": 5,
   "metadata": {},
   "outputs": [],
   "source": [
    "# Create a clean DataFrame by dropping the duplicate mouse by its ID.\n",
    "mice = mice.loc[mice['Mouse ID'] != 'g989']"
   ]
  },
  {
   "cell_type": "code",
   "execution_count": 6,
   "metadata": {},
   "outputs": [
    {
     "data": {
      "text/plain": [
       "248"
      ]
     },
     "execution_count": 6,
     "metadata": {},
     "output_type": "execute_result"
    }
   ],
   "source": [
    "# Checking the number of mice in the clean DataFrame.\n",
    "mice['Mouse ID'].nunique()"
   ]
  },
  {
   "cell_type": "markdown",
   "metadata": {},
   "source": [
    "## Summary Statistics"
   ]
  },
  {
   "cell_type": "code",
   "execution_count": 7,
   "metadata": {},
   "outputs": [
    {
     "data": {
      "text/html": [
       "<div>\n",
       "<style scoped>\n",
       "    .dataframe tbody tr th:only-of-type {\n",
       "        vertical-align: middle;\n",
       "    }\n",
       "\n",
       "    .dataframe tbody tr th {\n",
       "        vertical-align: top;\n",
       "    }\n",
       "\n",
       "    .dataframe thead th {\n",
       "        text-align: right;\n",
       "    }\n",
       "</style>\n",
       "<table border=\"1\" class=\"dataframe\">\n",
       "  <thead>\n",
       "    <tr style=\"text-align: right;\">\n",
       "      <th></th>\n",
       "      <th>Mean</th>\n",
       "      <th>Median</th>\n",
       "      <th>Variance</th>\n",
       "      <th>Std. Dev</th>\n",
       "      <th>Std. Error</th>\n",
       "    </tr>\n",
       "    <tr>\n",
       "      <th>Drug Regimen</th>\n",
       "      <th></th>\n",
       "      <th></th>\n",
       "      <th></th>\n",
       "      <th></th>\n",
       "      <th></th>\n",
       "    </tr>\n",
       "  </thead>\n",
       "  <tbody>\n",
       "    <tr>\n",
       "      <td>Capomulin</td>\n",
       "      <td>40.68</td>\n",
       "      <td>41.56</td>\n",
       "      <td>24.95</td>\n",
       "      <td>4.99</td>\n",
       "      <td>0.329</td>\n",
       "    </tr>\n",
       "    <tr>\n",
       "      <td>Ceftamin</td>\n",
       "      <td>52.59</td>\n",
       "      <td>51.78</td>\n",
       "      <td>39.29</td>\n",
       "      <td>6.27</td>\n",
       "      <td>0.470</td>\n",
       "    </tr>\n",
       "    <tr>\n",
       "      <td>Infubinol</td>\n",
       "      <td>52.88</td>\n",
       "      <td>51.82</td>\n",
       "      <td>43.13</td>\n",
       "      <td>6.57</td>\n",
       "      <td>0.492</td>\n",
       "    </tr>\n",
       "    <tr>\n",
       "      <td>Ketapril</td>\n",
       "      <td>55.24</td>\n",
       "      <td>53.70</td>\n",
       "      <td>68.55</td>\n",
       "      <td>8.28</td>\n",
       "      <td>0.604</td>\n",
       "    </tr>\n",
       "    <tr>\n",
       "      <td>Naftisol</td>\n",
       "      <td>54.33</td>\n",
       "      <td>52.51</td>\n",
       "      <td>66.17</td>\n",
       "      <td>8.13</td>\n",
       "      <td>0.596</td>\n",
       "    </tr>\n",
       "    <tr>\n",
       "      <td>Placebo</td>\n",
       "      <td>54.03</td>\n",
       "      <td>52.29</td>\n",
       "      <td>61.17</td>\n",
       "      <td>7.82</td>\n",
       "      <td>0.581</td>\n",
       "    </tr>\n",
       "    <tr>\n",
       "      <td>Propriva</td>\n",
       "      <td>52.32</td>\n",
       "      <td>50.45</td>\n",
       "      <td>43.85</td>\n",
       "      <td>6.62</td>\n",
       "      <td>0.544</td>\n",
       "    </tr>\n",
       "    <tr>\n",
       "      <td>Ramicane</td>\n",
       "      <td>40.22</td>\n",
       "      <td>40.67</td>\n",
       "      <td>23.49</td>\n",
       "      <td>4.85</td>\n",
       "      <td>0.321</td>\n",
       "    </tr>\n",
       "    <tr>\n",
       "      <td>Stelasyn</td>\n",
       "      <td>54.23</td>\n",
       "      <td>52.43</td>\n",
       "      <td>59.45</td>\n",
       "      <td>7.71</td>\n",
       "      <td>0.573</td>\n",
       "    </tr>\n",
       "    <tr>\n",
       "      <td>Zoniferol</td>\n",
       "      <td>53.24</td>\n",
       "      <td>51.82</td>\n",
       "      <td>48.53</td>\n",
       "      <td>6.97</td>\n",
       "      <td>0.516</td>\n",
       "    </tr>\n",
       "  </tbody>\n",
       "</table>\n",
       "</div>"
      ],
      "text/plain": [
       "               Mean Median Variance Std. Dev Std. Error\n",
       "Drug Regimen                                           \n",
       "Capomulin     40.68  41.56    24.95     4.99      0.329\n",
       "Ceftamin      52.59  51.78    39.29     6.27      0.470\n",
       "Infubinol     52.88  51.82    43.13     6.57      0.492\n",
       "Ketapril      55.24  53.70    68.55     8.28      0.604\n",
       "Naftisol      54.33  52.51    66.17     8.13      0.596\n",
       "Placebo       54.03  52.29    61.17     7.82      0.581\n",
       "Propriva      52.32  50.45    43.85     6.62      0.544\n",
       "Ramicane      40.22  40.67    23.49     4.85      0.321\n",
       "Stelasyn      54.23  52.43    59.45     7.71      0.573\n",
       "Zoniferol     53.24  51.82    48.53     6.97      0.516"
      ]
     },
     "execution_count": 7,
     "metadata": {},
     "output_type": "execute_result"
    }
   ],
   "source": [
    "# Generate a summary statistics table of mean, median, variance, standard deviation, and SEM of the tumor volume for each regimen\n",
    "\n",
    "micegroup = mice.groupby(['Drug Regimen'])['Tumor Volume (mm3)']\n",
    "#\n",
    "micemean = micegroup.mean()\n",
    "micemed = micegroup.median()\n",
    "micevar = micegroup.var()\n",
    "micestd = micegroup.std()\n",
    "micesem = micegroup.sem()\n",
    "#\n",
    "summary = {'Mean' : micemean, 'Median' : micemed, 'Variance' : micevar, 'Std. Dev' : micestd, 'Std. Error' : micesem}\n",
    "#\n",
    "summary = pd.DataFrame(summary)\n",
    "summary['Mean'] = summary['Mean'].map(\"{:.2f}\".format)\n",
    "summary['Median'] = summary['Median'].map(\"{:.2f}\".format)\n",
    "summary['Variance'] = summary['Variance'].map(\"{:.2f}\".format)\n",
    "summary['Std. Dev'] = summary['Std. Dev'].map(\"{:.2f}\".format)\n",
    "summary['Std. Error'] = summary['Std. Error'].map(\"{:.3f}\".format)\n",
    "summary = pd.DataFrame(summary)\n",
    "summary"
   ]
  },
  {
   "cell_type": "markdown",
   "metadata": {},
   "source": [
    "## Bar Plots"
   ]
  },
  {
   "cell_type": "code",
   "execution_count": 8,
   "metadata": {},
   "outputs": [
    {
     "data": {
      "image/png": "[encoded data removed]",
      "text/plain": [
       "<Figure size 432x288 with 1 Axes>"
      ]
     },
     "metadata": {
      "needs_background": "light"
     },
     "output_type": "display_data"
    }
   ],
   "source": [
    "# Generate a bar plot showing number of data points for each treatment regimen using pandas\n",
    "drugfreq = mice['Drug Regimen'].value_counts()\n",
    "drugfreq.sort_values(ascending = False)\n",
    "drugfreq.plot(kind = 'bar', color = 'black', width = 0.6)\n",
    "#\n",
    "plt.title(\"Regimen Frequency by Drug\")\n",
    "plt.ylabel(\"Number of Trials\")\n",
    "plt.xlabel(\"Drug Type\")\n",
    "plt.tight_layout()"
   ]
  },
  {
   "cell_type": "code",
   "execution_count": 9,
   "metadata": {},
   "outputs": [
    {
     "data": {
      "text/plain": [
       "Text(0, 0.5, 'Number of Trials')"
      ]
     },
     "execution_count": 9,
     "metadata": {},
     "output_type": "execute_result"
    },
    {
     "data": {
      "image/png": "[encoded data removed]",
      "text/plain": [
       "<Figure size 432x288 with 1 Axes>"
      ]
     },
     "metadata": {
      "needs_background": "light"
     },
     "output_type": "display_data"
    }
   ],
   "source": [
    "# Generate a bar plot showing number of data points for each treatment regimen using pyplot\n",
    "\n",
    "drugname = drugfreq.keys()\n",
    "drugamount = [drugfreq[0], drugfreq[1], drugfreq[2], drugfreq[3], drugfreq[4], \n",
    "             drugfreq[5], drugfreq[6], drugfreq[7], drugfreq[8], drugfreq[9]]\n",
    "ticks = [x for x in drugname]\n",
    "#\n",
    "plt.bar(drugname, drugamount, color = \"black\", width = 0.6)\n",
    "plt.xticks(ticks, rotation = 'vertical')\n",
    "plt.title(\"Regimen Frequency by Drug\")\n",
    "plt.xlabel(\"Drug Type\")\n",
    "plt.ylabel(\"Number of Trials\")"
   ]
  },
  {
   "cell_type": "markdown",
   "metadata": {},
   "source": [
    "## Pie Plots"
   ]
  },
  {
   "cell_type": "code",
   "execution_count": 10,
   "metadata": {
    "scrolled": true
   },
   "outputs": [
    {
     "data": {
      "text/plain": [
       "Text(0.5, 1.0, 'Mouse Distribution by Sex')"
      ]
     },
     "execution_count": 10,
     "metadata": {},
     "output_type": "execute_result"
    },
    {
     "data": {
      "image/png": "[encoded data removed]",
      "text/plain": [
       "<Figure size 432x288 with 1 Axes>"
      ]
     },
     "metadata": {},
     "output_type": "display_data"
    }
   ],
   "source": [
    "# Generate a pie plot showing the distribution of female versus male mice using pandas\n",
    "\n",
    "fem = mice.loc[mice['Sex'] == 'Female']\n",
    "male = mice.loc[mice['Sex']== 'Male']\n",
    "fem = fem.nunique()['Mouse ID']\n",
    "male = male.nunique()['Mouse ID']\n",
    "#\n",
    "gender_dist = pd.DataFrame({'Sex': ['Female', 'Male'], \"Mice Count\" : [fem, male]})\n",
    "gender_dist = gender_dist.set_index('Sex')\n",
    "colors = ['pink', 'lightskyblue']\n",
    "gender_dist.plot(kind = 'pie', colors = colors, autopct = \"%1.2f%%\", y = gender_dist.keys(), shadow = True, legend = None)\n",
    "plt.title(\"Mouse Distribution by Sex\")"
   ]
  },
  {
   "cell_type": "code",
   "execution_count": 11,
   "metadata": {},
   "outputs": [
    {
     "data": {
      "text/plain": [
       "Text(0.5, 1.0, 'Mouse Distribution by Sex')"
      ]
     },
     "execution_count": 11,
     "metadata": {},
     "output_type": "execute_result"
    },
    {
     "data": {
      "image/png": "[encoded data removed]",
      "text/plain": [
       "<Figure size 432x288 with 1 Axes>"
      ]
     },
     "metadata": {},
     "output_type": "display_data"
    }
   ],
   "source": [
    "# Generate a pie plot showing the distribution of female versus male mice using pyplot\n",
    "genders = gender_dist.index\n",
    "plt.pie(gender_dist['Mice Count'], labels = genders, colors = colors, autopct = \"%1.2f%%\", shadow = True)\n",
    "plt.title(\"Mouse Distribution by Sex\")"
   ]
  },
  {
   "cell_type": "markdown",
   "metadata": {},
   "source": [
    "## Quartiles, Outliers and Boxplots"
   ]
  },
  {
   "cell_type": "code",
   "execution_count": 12,
   "metadata": {},
   "outputs": [
    {
     "name": "stdout",
     "output_type": "stream",
     "text": [
      "Infubinol---------------------------------------\n",
      "The lower quartile is: 54.05\n",
      "The upper quartile is: 65.53\n",
      "The interquartile range is: 11.48\n",
      "The the median is: 60.17 \n",
      "Values below 36.83 could be outliers.\n",
      "Values above 82.74 could be outliers.\n",
      "The outliers are: Mouse ID\n",
      "c326    36.32\n",
      "Name: Tumor Volume (mm3), dtype: float64\n",
      "------------------------------------------------\n",
      "Capomulin---------------------------------------\n",
      "The lower quartile is: 32.38\n",
      "The upper quartile is: 40.16\n",
      "The interquartile range is: 7.78\n",
      "The the median is: 38.13 \n",
      "Values below 20.7 could be outliers.\n",
      "Values above 51.83 could be outliers.\n",
      "There are no outliers\n",
      "------------------------------------------------\n",
      "Ramicane---------------------------------------\n",
      "The lower quartile is: 31.56\n",
      "The upper quartile is: 40.66\n",
      "The interquartile range is: 9.1\n",
      "The the median is: 36.56\n",
      "Values below 17.91 could be outliers.\n",
      "Values above 54.31 could be outliers.\n",
      "There are no outliers\n",
      "------------------------------------------------\n",
      "Ceftamin---------------------------------------\n",
      "The lower quartile  is: 48.72\n",
      "The upper quartile is: 64.3\n",
      "The interquartile range is: 15.58\n",
      "The the median is: 59.85 \n",
      "Values below 25.36 could be outliers.\n",
      "Values above 87.67 could be outliers.\n",
      "There are no outliers\n",
      "------------------------------------------------\n"
     ]
    }
   ],
   "source": [
    "# Calculate the final tumor volume of each mouse across four of the most promising treatment regimens. Calculate the IQR and quantitatively determine if there are any potential outliers. \n",
    "\n",
    "lastdf = mice.groupby(\"Mouse ID\").nth(-1)\n",
    "lastdf.reset_index()\n",
    "#\n",
    "inf = lastdf.loc[lastdf['Drug Regimen']== 'Infubinol']['Tumor Volume (mm3)']\n",
    "i_qrt= inf.quantile([.25, .5, .75])\n",
    "i_low = i_qrt[.25]\n",
    "i_up = i_qrt[.75]\n",
    "i_med = i_qrt[.5]\n",
    "i_iqr = i_up - i_low\n",
    "i_lowb = i_low - (1.5 * i_iqr)\n",
    "i_upb = i_up + (1.5 * i_iqr)\n",
    "outlier_inf = inf.loc[(inf < i_lowb) | (inf > i_upb)]\n",
    "#\n",
    "cap = lastdf.loc[lastdf['Drug Regimen']== 'Capomulin']['Tumor Volume (mm3)']\n",
    "cap_qrt = cap.quantile([.25, .5, .75])\n",
    "cap_low = cap_qrt[.25]\n",
    "cap_up = cap_qrt[.75]\n",
    "cap_med = cap_qrt[.5]\n",
    "cap_iqr = cap_up - cap_low\n",
    "cap_lowb = cap_low - (1.5 * cap_iqr)\n",
    "cap_upb = cap_up + (1.5 * cap_iqr)\n",
    "outlier_cap = cap.loc[(cap < cap_lowb) | (cap > i_upb)]\n",
    "#\n",
    "ram = lastdf.loc[lastdf['Drug Regimen']== 'Ramicane']['Tumor Volume (mm3)']\n",
    "r_qrt = ram.quantile([.25, .5, .75])\n",
    "r_low = r_qrt[.25]\n",
    "r_up = r_qrt[.75]\n",
    "r_med = r_qrt[.5]\n",
    "r_iqr = r_up - r_low\n",
    "r_lowb = r_low - (1.5 * r_iqr)\n",
    "r_upb = r_up + (1.5 * r_iqr)\n",
    "outlier_r = ram.loc[(ram < r_lowb) | (ram > r_upb)]\n",
    "#\n",
    "ceft= lastdf.loc[lastdf['Drug Regimen']== 'Ceftamin']['Tumor Volume (mm3)']\n",
    "ce_qrt = ceft.quantile([.25, .5, .75])\n",
    "ce_low = ce_qrt[.25]\n",
    "ce_up = ce_qrt[.75]\n",
    "ce_med = ce_qrt[.5]\n",
    "ce_iqr = ce_up - ce_low\n",
    "ce_lowb = ce_low - (1.5 * ce_iqr)\n",
    "ce_upb = ce_up + (1.5 * ce_iqr)\n",
    "outlier_ce = ceft.loc[(ceft < ce_lowb) | (ceft > ce_upb)]\n",
    "#\n",
    "\n",
    "#############################\n",
    "\n",
    "print(\"Infubinol---------------------------------------\")\n",
    "print(f\"The lower quartile is: {round(i_low,2)}\")\n",
    "print(f\"The upper quartile is: {round(i_up,2)}\")\n",
    "print(f\"The interquartile range is: {round(i_iqr,2)}\")\n",
    "print(f\"The the median is: {round(i_med, 2)} \")\n",
    "print(f\"Values below {round(i_lowb,2)} could be outliers.\")\n",
    "print(f\"Values above {round(i_upb,2)} could be outliers.\")\n",
    "if outlier_inf.empty:\n",
    "    print(\"There are no outliers\")\n",
    "else:\n",
    "    print(f\"The outliers are: {round(outlier_inf,2)}\")\n",
    "print(\"------------------------------------------------\")\n",
    "#\n",
    "\n",
    "print(\"Capomulin---------------------------------------\")\n",
    "print(f\"The lower quartile is: {round(cap_low,2)}\")\n",
    "print(f\"The upper quartile is: {round(cap_up,2)}\")\n",
    "print(f\"The interquartile range is: {round(cap_iqr,2)}\")\n",
    "print(f\"The the median is: {round(cap_med,2)} \")\n",
    "print(f\"Values below {round(cap_lowb,2)} could be outliers.\")\n",
    "print(f\"Values above {round(cap_upb,2)} could be outliers.\")\n",
    "if outlier_cap.empty:\n",
    "    print(\"There are no outliers\")\n",
    "else:\n",
    "    print(f\"The outliers are: {round(outlier_cap,2)}\")\n",
    "print(\"------------------------------------------------\")\n",
    "#\n",
    "\n",
    "print(\"Ramicane---------------------------------------\")\n",
    "print(f\"The lower quartile is: {round(r_low,2)}\")\n",
    "print(f\"The upper quartile is: {round(r_up,2)}\")\n",
    "print(f\"The interquartile range is: {round(r_iqr,2)}\")\n",
    "print(f\"The the median is: {round(r_med,2)}\")\n",
    "print(f\"Values below {round(r_lowb,2)} could be outliers.\")\n",
    "print(f\"Values above {round(r_upb,2)} could be outliers.\")\n",
    "if outlier_r.empty:\n",
    "    print(\"There are no outliers\")\n",
    "else:\n",
    "    print(f\"The outliers are: {round(outlier_r,2)}\")\n",
    "print(\"------------------------------------------------\")\n",
    "#\n",
    "\n",
    "print(\"Ceftamin---------------------------------------\")\n",
    "print(f\"The lower quartile  is: {round(ce_low,2)}\")\n",
    "print(f\"The upper quartile is: {round(ce_up,2)}\")\n",
    "print(f\"The interquartile range is: {round(ce_iqr,2)}\")\n",
    "print(f\"The the median is: {round(ce_med,2)} \")\n",
    "print(f\"Values below {round(ce_lowb,2)} could be outliers.\")\n",
    "print(f\"Values above {round(ce_upb,2)} could be outliers.\")\n",
    "if outlier_ce.empty:\n",
    "    print(\"There are no outliers\")\n",
    "else:\n",
    "    print(f\"The outliers are: {round(outlier_ce,2)}\")\n",
    "print(\"------------------------------------------------\")"
   ]
  },
  {
   "cell_type": "code",
   "execution_count": 13,
   "metadata": {},
   "outputs": [
    {
     "data": {
      "text/plain": [
       "Text(0.5, 1.0, 'Final Tumor Volume for 4 Treatments')"
      ]
     },
     "execution_count": 13,
     "metadata": {},
     "output_type": "execute_result"
    },
    {
     "data": {
      "image/png": "[encoded data removed]",
      "text/plain": [
       "<Figure size 432x288 with 1 Axes>"
      ]
     },
     "metadata": {
      "needs_background": "light"
     },
     "output_type": "display_data"
    }
   ],
   "source": [
    "#Boxplot\n",
    "plt.boxplot([inf, cap, ram, ceft], labels = ['Infubinol', 'Capomulin', 'Ramicane', 'Ceftamin'], flierprops = {\"markerfacecolor\": \"red\"})\n",
    "plt.ylabel(\"Tumor Volume\")\n",
    "plt.title(\"Final Tumor Volume for 4 Treatments\")"
   ]
  },
  {
   "cell_type": "markdown",
   "metadata": {},
   "source": [
    "## Line and Scatter Plots"
   ]
  },
  {
   "cell_type": "code",
   "execution_count": 17,
   "metadata": {},
   "outputs": [
    {
     "data": {
      "text/plain": [
       "array(['b128', 'b742', 'f966', 'g288', 'g316', 'i557', 'i738', 'j119',\n",
       "       'j246', 'l509', 'l897', 'm601', 'm957', 'r157', 'r554', 'r944',\n",
       "       's185', 's710', 't565', 'u364', 'v923', 'w150', 'w914', 'x401',\n",
       "       'y793'], dtype=object)"
      ]
     },
     "execution_count": 17,
     "metadata": {},
     "output_type": "execute_result"
    }
   ],
   "source": [
    "# Generate a line plot of time point versus tumor volume for a mouse treated with Capomulin\n",
    "capstudy = mice.loc[mice['Drug Regimen'] == 'Capomulin']\n",
    "capstudy['Mouse ID'].unique()"
   ]
  },
  {
   "cell_type": "code",
   "execution_count": 20,
   "metadata": {},
   "outputs": [
    {
     "name": "stdout",
     "output_type": "stream",
     "text": [
      "Which Capomulin Mouse ID are you researching?j246\n"
     ]
    },
    {
     "data": {
      "text/html": [
       "<div>\n",
       "<style scoped>\n",
       "    .dataframe tbody tr th:only-of-type {\n",
       "        vertical-align: middle;\n",
       "    }\n",
       "\n",
       "    .dataframe tbody tr th {\n",
       "        vertical-align: top;\n",
       "    }\n",
       "\n",
       "    .dataframe thead th {\n",
       "        text-align: right;\n",
       "    }\n",
       "</style>\n",
       "<table border=\"1\" class=\"dataframe\">\n",
       "  <thead>\n",
       "    <tr style=\"text-align: right;\">\n",
       "      <th></th>\n",
       "      <th>Mouse ID</th>\n",
       "      <th>Drug Regimen</th>\n",
       "      <th>Sex</th>\n",
       "      <th>Age_months</th>\n",
       "      <th>Weight (g)</th>\n",
       "      <th>Timepoint</th>\n",
       "      <th>Tumor Volume (mm3)</th>\n",
       "      <th>Metastatic Sites</th>\n",
       "    </tr>\n",
       "  </thead>\n",
       "  <tbody>\n",
       "    <tr>\n",
       "      <td>310</td>\n",
       "      <td>j246</td>\n",
       "      <td>Capomulin</td>\n",
       "      <td>Female</td>\n",
       "      <td>21</td>\n",
       "      <td>21</td>\n",
       "      <td>0</td>\n",
       "      <td>45.000000</td>\n",
       "      <td>0</td>\n",
       "    </tr>\n",
       "    <tr>\n",
       "      <td>311</td>\n",
       "      <td>j246</td>\n",
       "      <td>Capomulin</td>\n",
       "      <td>Female</td>\n",
       "      <td>21</td>\n",
       "      <td>21</td>\n",
       "      <td>5</td>\n",
       "      <td>45.641438</td>\n",
       "      <td>0</td>\n",
       "    </tr>\n",
       "    <tr>\n",
       "      <td>312</td>\n",
       "      <td>j246</td>\n",
       "      <td>Capomulin</td>\n",
       "      <td>Female</td>\n",
       "      <td>21</td>\n",
       "      <td>21</td>\n",
       "      <td>10</td>\n",
       "      <td>46.408361</td>\n",
       "      <td>0</td>\n",
       "    </tr>\n",
       "    <tr>\n",
       "      <td>313</td>\n",
       "      <td>j246</td>\n",
       "      <td>Capomulin</td>\n",
       "      <td>Female</td>\n",
       "      <td>21</td>\n",
       "      <td>21</td>\n",
       "      <td>15</td>\n",
       "      <td>43.312654</td>\n",
       "      <td>0</td>\n",
       "    </tr>\n",
       "    <tr>\n",
       "      <td>314</td>\n",
       "      <td>j246</td>\n",
       "      <td>Capomulin</td>\n",
       "      <td>Female</td>\n",
       "      <td>21</td>\n",
       "      <td>21</td>\n",
       "      <td>20</td>\n",
       "      <td>44.020370</td>\n",
       "      <td>0</td>\n",
       "    </tr>\n",
       "    <tr>\n",
       "      <td>315</td>\n",
       "      <td>j246</td>\n",
       "      <td>Capomulin</td>\n",
       "      <td>Female</td>\n",
       "      <td>21</td>\n",
       "      <td>21</td>\n",
       "      <td>25</td>\n",
       "      <td>44.555226</td>\n",
       "      <td>0</td>\n",
       "    </tr>\n",
       "    <tr>\n",
       "      <td>316</td>\n",
       "      <td>j246</td>\n",
       "      <td>Capomulin</td>\n",
       "      <td>Female</td>\n",
       "      <td>21</td>\n",
       "      <td>21</td>\n",
       "      <td>30</td>\n",
       "      <td>38.044082</td>\n",
       "      <td>1</td>\n",
       "    </tr>\n",
       "    <tr>\n",
       "      <td>317</td>\n",
       "      <td>j246</td>\n",
       "      <td>Capomulin</td>\n",
       "      <td>Female</td>\n",
       "      <td>21</td>\n",
       "      <td>21</td>\n",
       "      <td>35</td>\n",
       "      <td>38.753265</td>\n",
       "      <td>1</td>\n",
       "    </tr>\n",
       "  </tbody>\n",
       "</table>\n",
       "</div>"
      ],
      "text/plain": [
       "    Mouse ID Drug Regimen     Sex  Age_months  Weight (g)  Timepoint  \\\n",
       "310     j246    Capomulin  Female          21          21          0   \n",
       "311     j246    Capomulin  Female          21          21          5   \n",
       "312     j246    Capomulin  Female          21          21         10   \n",
       "313     j246    Capomulin  Female          21          21         15   \n",
       "314     j246    Capomulin  Female          21          21         20   \n",
       "315     j246    Capomulin  Female          21          21         25   \n",
       "316     j246    Capomulin  Female          21          21         30   \n",
       "317     j246    Capomulin  Female          21          21         35   \n",
       "\n",
       "     Tumor Volume (mm3)  Metastatic Sites  \n",
       "310           45.000000                 0  \n",
       "311           45.641438                 0  \n",
       "312           46.408361                 0  \n",
       "313           43.312654                 0  \n",
       "314           44.020370                 0  \n",
       "315           44.555226                 0  \n",
       "316           38.044082                 1  \n",
       "317           38.753265                 1  "
      ]
     },
     "execution_count": 20,
     "metadata": {},
     "output_type": "execute_result"
    },
    {
     "data": {
      "image/png": "[encoded data removed]",
      "text/plain": [
       "<Figure size 432x288 with 1 Axes>"
      ]
     },
     "metadata": {
      "needs_background": "light"
     },
     "output_type": "display_data"
    }
   ],
   "source": [
    "mice_id = input(\"Which Capomulin Mouse ID are you researching?\")\n",
    "indmouse = capstudy.loc[capstudy['Mouse ID'] == mice_id]\n",
    "plt.plot(indmouse['Timepoint'], indmouse['Tumor Volume (mm3)'], color = 'Red', label = \"Tumor Volume over Time\")\n",
    "plt.xlabel('Time Point')\n",
    "plt.ylabel('Tumor Volume (mm3)')\n",
    "plt.title('Subject Mouse Tumor Growth Over Time')\n",
    "indmouse"
   ]
  },
  {
   "cell_type": "code",
   "execution_count": 21,
   "metadata": {},
   "outputs": [
    {
     "data": {
      "text/plain": [
       "<matplotlib.axes._subplots.AxesSubplot at 0x1c4a84eab88>"
      ]
     },
     "execution_count": 21,
     "metadata": {},
     "output_type": "execute_result"
    },
    {
     "data": {
      "image/png": "[encoded data removed]",
      "text/plain": [
       "<Figure size 432x288 with 1 Axes>"
      ]
     },
     "metadata": {
      "needs_background": "light"
     },
     "output_type": "display_data"
    }
   ],
   "source": [
    "# Generate a scatter plot of mouse weight versus average tumor volume for the Capomulin regimen\n",
    "scatmice = capstudy.groupby(['Mouse ID']).mean()[['Weight (g)', 'Tumor Volume (mm3)']]\n",
    "scatmice.plot(kind = 'scatter', x = 'Weight (g)', y = 'Tumor Volume (mm3)', grid = True, title = \"Capomulin: Tumor Volume vs. Weight\")"
   ]
  },
  {
   "cell_type": "markdown",
   "metadata": {},
   "source": [
    "## Correlation and Regression"
   ]
  },
  {
   "cell_type": "code",
   "execution_count": 22,
   "metadata": {},
   "outputs": [
    {
     "name": "stdout",
     "output_type": "stream",
     "text": [
      "The correlation between weight and average tumor volume is 0.84\n",
      "Linear Regression is y = 0.95x + 21.55\n"
     ]
    },
    {
     "data": {
      "image/png": "[encoded data removed]",
      "text/plain": [
       "<Figure size 432x288 with 1 Axes>"
      ]
     },
     "metadata": {
      "needs_background": "light"
     },
     "output_type": "display_data"
    }
   ],
   "source": [
    "# Calculate the correlation coefficient and linear regression model \n",
    "# for mouse weight and avaerage tumor volume for the Capomulin regimen\n",
    "x = scatmice['Weight (g)']\n",
    "y = scatmice['Tumor Volume (mm3)']\n",
    "(slope, intercept, pvalue, rvalue, stderr) = stats.linregress(x,y)\n",
    "line = slope * x + intercept\n",
    "line_eq = \"y = \" + str(round(slope,2)) + \"x + \" + str(round(intercept,2))\n",
    "#\n",
    "plt.scatter(x,y, facecolors= 'orange')\n",
    "plt.plot(x,line, color = 'red')\n",
    "plt.grid(b=True)\n",
    "plt.xlabel(\"Weight (g)\")\n",
    "plt.ylabel('Tumor Volume (mm3)')\n",
    "plt.title('Capomulin: Tumor Volume vs. Weight with Linear Regression Model')\n",
    "#\n",
    "cor = st.pearsonr(scatmice['Weight (g)'], scatmice['Tumor Volume (mm3)'])\n",
    "#\n",
    "print(f'The correlation between weight and average tumor volume is {round(cor[0],2)}')\n",
    "print(f'Linear Regression is {line_eq}')"
   ]
  },
  {
   "cell_type": "code",
   "execution_count": null,
   "metadata": {},
   "outputs": [],
   "source": []
  }
 ],
 "metadata": {
  "anaconda-cloud": {},
  "kernelspec": {
   "display_name": "Python 3",
   "language": "python",
   "name": "python3"
  },
  "language_info": {
   "codemirror_mode": {
    "name": "ipython",
    "version": 3
   },
   "file_extension": ".py",
   "mimetype": "text/x-python",
   "name": "python",
   "nbconvert_exporter": "python",
   "pygments_lexer": "ipython3",
   "version": "3.7.4"
  }
 },
 "nbformat": 4,
 "nbformat_minor": 4
}
